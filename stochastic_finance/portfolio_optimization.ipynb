{
 "cells": [
  {
   "cell_type": "code",
   "execution_count": 1,
   "id": "176ef456-6af1-4755-a6a1-1bd51afb7235",
   "metadata": {},
   "outputs": [
    {
     "name": "stdout",
     "output_type": "stream",
     "text": [
      "Optimized weights: [0.59353026 0.20646974 0.2       ]\n",
      "Portfolio volatility: 0.10000057437048875\n",
      "Portfolio return: 0.06974121027112826\n"
     ]
    }
   ],
   "source": [
    "import numpy as np\n",
    "from scipy.optimize import minimize\n",
    "\n",
    "def portfolio_volatility(weights, cov_matrix):\n",
    "    \"\"\"Calculate the portfolio volatility.\"\"\"\n",
    "    return np.sqrt(np.dot(weights.T, np.dot(cov_matrix, weights)))\n",
    "\n",
    "def portfolio_return(weights, returns):\n",
    "    \"\"\"Calculate the portfolio return (negative for minimization).\"\"\"\n",
    "    return -np.dot(weights, returns)\n",
    "\n",
    "def optimize_portfolio(returns, cov_matrix, target_return=None, weight_bounds=None, volatility_bound=None):\n",
    "    \"\"\"\n",
    "    Optimize portfolio weights to maximize returns while bounding volatility.\n",
    "    \n",
    "    Args:\n",
    "    - returns: An n-dimensional vector of asset expected returns.\n",
    "    - cov_matrix: An n x n covariance matrix of asset returns.\n",
    "    - target_return: The desired portfolio return (if None, this constraint is not enforced).\n",
    "    - weight_bounds: A list of tuples specifying the lower and upper bounds for each asset's weight.\n",
    "    - volatility_bound: A target for the maximum portfolio volatility (if None, this constraint is not enforced).\n",
    "    \n",
    "    Returns:\n",
    "    - res.x: Optimized weights of the portfolio.\n",
    "    \"\"\"\n",
    "    n_assets = len(returns)\n",
    "    \n",
    "    # Define initial guess for asset weights (equal weighting)\n",
    "    init_guess = np.ones(n_assets) / n_assets\n",
    "    \n",
    "    # Define the bounds for each asset weight (use default bounds if not provided)\n",
    "    if weight_bounds is None:\n",
    "        weight_bounds = [(0, 1) for _ in range(n_assets)]  # Default to long-only portfolio bounds\n",
    "    \n",
    "    # Define the constraints\n",
    "    constraints = [{'type': 'eq', 'fun': lambda weights: np.sum(weights) - 1}]  # Sum of weights must be 1\n",
    "    \n",
    "    if volatility_bound is not None:\n",
    "        # Add inequality constraint for portfolio volatility (must be less than or equal to volatility_bound)\n",
    "        constraints.append({'type': 'ineq', 'fun': lambda weights: volatility_bound - portfolio_volatility(weights, cov_matrix)})\n",
    "    \n",
    "    # Objective function: minimize negative portfolio return (i.e., maximize returns)\n",
    "    result = minimize(portfolio_return, init_guess, args=(returns,), method='SLSQP', bounds=weight_bounds, constraints=constraints)\n",
    "    \n",
    "    return result\n",
    "\n",
    "# Example Usage\n",
    "if __name__ == \"__main__\":\n",
    "    # Example inputs\n",
    "    returns = np.array([0.08, 0.04, 0.07])  # Example expected returns\n",
    "    volatilities = np.array([0.15, 0.05, 0.12]) \n",
    "    corr_matrix = np.array([[1, -0.2, 0.4], \n",
    "                           [-0.2, 1, 0.1], \n",
    "                           [0.4, 0.1, 1]])  # Example correlation matrix\n",
    "    cov_matrix = np.diag(volatilities) @ corr_matrix @ np.diag(volatilities)\n",
    "    \n",
    "    # Example bounds for each asset (Asset 1: [0, 1], Asset 2: [0.1, 0.6], Asset 3: [0.05, 0.4])\n",
    "    weight_bounds = [(0.4, 1), (0, 0.5), (0, 0.2)]\n",
    "    \n",
    "    # Optimize portfolio for a target return of 6% and volatility bound of 10%\n",
    "    result = optimize_portfolio(returns, cov_matrix, target_return=0.06, weight_bounds=weight_bounds, volatility_bound=0.1)\n",
    "    \n",
    "    print(\"Optimized weights:\", result.x)\n",
    "    print(\"Portfolio volatility:\", portfolio_volatility(result.x, cov_matrix))\n",
    "    print(\"Portfolio return:\", -portfolio_return(result.x, returns))\n"
   ]
  },
  {
   "cell_type": "code",
   "execution_count": null,
   "id": "e6043788-17b7-4402-af52-0ad3696b604a",
   "metadata": {},
   "outputs": [],
   "source": []
  }
 ],
 "metadata": {
  "kernelspec": {
   "display_name": "Python 3 (ipykernel)",
   "language": "python",
   "name": "python3"
  },
  "language_info": {
   "codemirror_mode": {
    "name": "ipython",
    "version": 3
   },
   "file_extension": ".py",
   "mimetype": "text/x-python",
   "name": "python",
   "nbconvert_exporter": "python",
   "pygments_lexer": "ipython3",
   "version": "3.12.5"
  }
 },
 "nbformat": 4,
 "nbformat_minor": 5
}
