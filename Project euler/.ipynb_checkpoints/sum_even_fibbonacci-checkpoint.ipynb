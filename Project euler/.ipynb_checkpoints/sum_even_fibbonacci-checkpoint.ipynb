{
 "cells": [
  {
   "cell_type": "code",
   "execution_count": 10,
   "id": "ba29d64b-6921-4804-bd9f-38ccf50c6e50",
   "metadata": {},
   "outputs": [
    {
     "name": "stdout",
     "output_type": "stream",
     "text": [
      "4613732\n"
     ]
    }
   ],
   "source": [
    "#fibbonacci numbers, we want to make the sum of even Fibonacci numbers up to 4 000 000\n",
    "def even_fibbonacci_step(a, b):\n",
    "    c=a+2*b\n",
    "    d=2*a+3*b\n",
    "    return c,d\n",
    "\n",
    "num1=1\n",
    "num2=2\n",
    "even_sum=0\n",
    "while(num2<4000000):\n",
    "    even_sum=even_sum+num2\n",
    "    num3,num4=even_fibbonacci_step(num1,num2)\n",
    "    num1=num3\n",
    "    num2=num4\n",
    "print(even_sum)\n",
    "\n",
    "    "
   ]
  },
  {
   "cell_type": "code",
   "execution_count": null,
   "id": "e674ec73-0998-4bb3-b00a-7bfd312481bd",
   "metadata": {},
   "outputs": [],
   "source": []
  }
 ],
 "metadata": {
  "kernelspec": {
   "display_name": "Python 3 (ipykernel)",
   "language": "python",
   "name": "python3"
  },
  "language_info": {
   "codemirror_mode": {
    "name": "ipython",
    "version": 3
   },
   "file_extension": ".py",
   "mimetype": "text/x-python",
   "name": "python",
   "nbconvert_exporter": "python",
   "pygments_lexer": "ipython3",
   "version": "3.12.5"
  }
 },
 "nbformat": 4,
 "nbformat_minor": 5
}
