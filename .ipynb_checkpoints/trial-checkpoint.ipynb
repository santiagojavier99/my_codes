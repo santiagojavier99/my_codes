{
 "cells": [
  {
   "cell_type": "code",
   "execution_count": 2,
   "id": "d162dbc2-f0db-45ad-92b7-dbd46b95639a",
   "metadata": {},
   "outputs": [
    {
     "name": "stdout",
     "output_type": "stream",
     "text": [
      "0\n",
      "0\n",
      "1\n",
      "3\n",
      "6\n",
      "10\n",
      "15\n",
      "21\n",
      "28\n",
      "36\n",
      "45\n"
     ]
    }
   ],
   "source": [
    "i=0\n",
    "print(i)\n",
    "for j in range (10):\n",
    "    i+=j\n",
    "    print(i)"
   ]
  },
  {
   "cell_type": "code",
   "execution_count": 3,
   "id": "ac986023-b3cf-43fe-8ea5-2e327ee43b67",
   "metadata": {},
   "outputs": [
    {
     "name": "stdout",
     "output_type": "stream",
     "text": [
      "Eigenvalues: [ 2.+0.j -1.+0.j]\n",
      "Eigenvectors: [[ 0.89442719 -0.70710678]\n",
      " [ 0.4472136   0.70710678]]\n"
     ]
    }
   ],
   "source": [
    "import scipy.linalg as la\n",
    "import numpy as np\n",
    "\n",
    "# Creating a matrix\n",
    "A = np.array([[1, 2], [1, 0]])\n",
    "\n",
    "# Computing eigenvalues and eigenvectors using SciPy\n",
    "eig, eigv = la.eig(A)\n",
    "\n",
    "print(\"Eigenvalues:\", eig)\n",
    "print(\"Eigenvectors:\", eigv)\n"
   ]
  },
  {
   "cell_type": "code",
   "execution_count": 4,
   "id": "e22b998f-a554-4196-a40f-e055cf3f5cc8",
   "metadata": {},
   "outputs": [
    {
     "name": "stdout",
     "output_type": "stream",
     "text": [
      "(2+0j)\n"
     ]
    }
   ],
   "source": [
    "print(eig[0])"
   ]
  },
  {
   "cell_type": "code",
   "execution_count": 5,
   "id": "333f5d21-d445-422b-bb4f-47b3d1a20ebf",
   "metadata": {},
   "outputs": [
    {
     "name": "stdout",
     "output_type": "stream",
     "text": [
      "[0.89442719 0.4472136 ] \n",
      " [-0.70710678  0.70710678]\n"
     ]
    }
   ],
   "source": [
    "print(eigv[:,0], '\\n', eigv[:,1])"
   ]
  },
  {
   "cell_type": "code",
   "execution_count": 8,
   "id": "ceb23d92-eab4-416e-a36f-51805dbbf385",
   "metadata": {},
   "outputs": [
    {
     "name": "stdout",
     "output_type": "stream",
     "text": [
      "[5, 2, 4, 6, 1, 3]\n",
      "[1 2 3 4 5 6]\n"
     ]
    }
   ],
   "source": [
    "A=[5,2,4,6,1,3]\n",
    "B=np.sort(A)\n",
    "print(A)\n",
    "print(B)"
   ]
  },
  {
   "cell_type": "code",
   "execution_count": null,
   "id": "c64a7fd2-744e-401b-9b50-c2a911346941",
   "metadata": {},
   "outputs": [],
   "source": []
  }
 ],
 "metadata": {
  "kernelspec": {
   "display_name": "Python 3 (ipykernel)",
   "language": "python",
   "name": "python3"
  },
  "language_info": {
   "codemirror_mode": {
    "name": "ipython",
    "version": 3
   },
   "file_extension": ".py",
   "mimetype": "text/x-python",
   "name": "python",
   "nbconvert_exporter": "python",
   "pygments_lexer": "ipython3",
   "version": "3.12.5"
  }
 },
 "nbformat": 4,
 "nbformat_minor": 5
}
