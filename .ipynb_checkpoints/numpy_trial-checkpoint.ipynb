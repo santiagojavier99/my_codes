{
 "cells": [
  {
   "cell_type": "code",
   "execution_count": 1,
   "id": "d162dbc2-f0db-45ad-92b7-dbd46b95639a",
   "metadata": {},
   "outputs": [
    {
     "name": "stdout",
     "output_type": "stream",
     "text": [
      "[[ 1.]\n",
      " [ 2.]\n",
      " [ 3.]\n",
      " [ 4.]\n",
      " [ 5.]\n",
      " [ 6.]\n",
      " [ 7.]\n",
      " [ 8.]\n",
      " [ 9.]\n",
      " [10.]]\n"
     ]
    }
   ],
   "source": [
    "import numpy as np\n",
    "num=np.zeros((10,1),dtype='float') #easy def of column vectors\n",
    "for i in range(10):\n",
    "    num[i,0]=i+1\n",
    "print(num)"
   ]
  },
  {
   "cell_type": "code",
   "execution_count": 2,
   "id": "033e4088-3c6a-4c42-af1b-c2b67ae27167",
   "metadata": {},
   "outputs": [
    {
     "name": "stdout",
     "output_type": "stream",
     "text": [
      "[[-3.94587892+0.j  7.74337364+0.j  2.11275379+0.j]\n",
      " [-9.24631649+0.j -8.22986716+0.j  5.0409138 +0.j]\n",
      " [ 0.8216432 +0.j -2.15296188+0.j -8.17574233+0.j]]\n"
     ]
    }
   ],
   "source": [
    "num=np.zeros((3,3),dtype='complex')\n",
    "rng=np.random.default_rng()\n",
    "for i in range(3):\n",
    "    for j in range(3):\n",
    "        num[i,j]=rng.random()*20-10      #setting the random interval from -10 to 10\n",
    "print(num)"
   ]
  },
  {
   "cell_type": "code",
   "execution_count": 3,
   "id": "cc3dc789-418b-4fbe-b65e-4c4dae33d47d",
   "metadata": {},
   "outputs": [
    {
     "name": "stdout",
     "output_type": "stream",
     "text": [
      "[[0. 0. 0. 0. 0.]\n",
      " [0. 0. 0. 0. 0.]\n",
      " [0. 0. 0. 0. 0.]\n",
      " [0. 0. 0. 0. 0.]\n",
      " [0. 0. 0. 0. 0.]]\n"
     ]
    }
   ],
   "source": [
    "num=np.zeros((5,5),dtype='float')     #easy definition of a matrix\n",
    "print(num)"
   ]
  },
  {
   "cell_type": "code",
   "execution_count": 4,
   "id": "afdab20a-66f6-49d0-a670-f4cacaea40d5",
   "metadata": {},
   "outputs": [
    {
     "name": "stdout",
     "output_type": "stream",
     "text": [
      "[[ 0.]\n",
      " [ 5.]\n",
      " [10.]\n",
      " [15.]\n",
      " [20.]\n",
      " [25.]\n",
      " [30.]\n",
      " [35.]\n",
      " [40.]\n",
      " [45.]\n",
      " [50.]]\n"
     ]
    }
   ],
   "source": [
    "num=np.zeros((11,1),dtype='float')\n",
    "for i in range(11):\n",
    "    num[i]=i*5\n",
    "print(num)"
   ]
  },
  {
   "cell_type": "code",
   "execution_count": 5,
   "id": "a9e220bd-1d2e-4d5f-9d6a-d7cb0191e3d9",
   "metadata": {},
   "outputs": [
    {
     "name": "stdout",
     "output_type": "stream",
     "text": [
      "[ 0.  5. 10. 15. 20. 25. 30. 35. 40. 45. 50.]\n"
     ]
    }
   ],
   "source": [
    "num = np.linspace(0,50,11)       #best definition for evenly spaced arrays (one can use this with start and stop arrays)\n",
    "print(num)"
   ]
  },
  {
   "cell_type": "code",
   "execution_count": 6,
   "id": "7076b76b-906f-4496-a14c-db113679bf50",
   "metadata": {},
   "outputs": [
    {
     "name": "stdout",
     "output_type": "stream",
     "text": [
      "[[ 1.  2.  3.  4.]\n",
      " [ 5.  6.  7.  8.]\n",
      " [ 9. 10. 11. 12.]\n",
      " [13. 14. 15. 16.]]\n"
     ]
    }
   ],
   "source": [
    "num=np.zeros((4,4),dtype='float')    \n",
    "for i in range(4):\n",
    "    for j in range(4):\n",
    "        num[i,j]=4*i+j+1\n",
    "print(num)"
   ]
  },
  {
   "cell_type": "code",
   "execution_count": 7,
   "id": "59f21194-b905-419b-91b6-b230c7947e4a",
   "metadata": {},
   "outputs": [
    {
     "name": "stdout",
     "output_type": "stream",
     "text": [
      "[1. 2. 3. 4.] \n",
      " [ 1.  5.  9. 13.]\n",
      "[[ 5.  7.]\n",
      " [13. 15.]]\n"
     ]
    }
   ],
   "source": [
    "print(num[0,:],'\\n',num[:,0])   #accessing matrix elements\n",
    "num2=np.zeros((2,2),dtype='float')\n",
    "list1=[1,3]\n",
    "list2=[0,2]\n",
    "cont1=0\n",
    "cont2=0\n",
    "for i in list1:\n",
    "    for j in list2:\n",
    "        num2[cont1,cont2]=num[i,j]\n",
    "        if(cont2+1<2): \n",
    "            cont2=cont2+1\n",
    "        else: cont2=0\n",
    "    cont1=cont1+1\n",
    "print(num2)"
   ]
  },
  {
   "cell_type": "code",
   "execution_count": 8,
   "id": "1fcc3df9-eb85-4382-aa05-79057e71c1b4",
   "metadata": {},
   "outputs": [
    {
     "name": "stdout",
     "output_type": "stream",
     "text": [
      "[[-3.08986289 -0.12342119  5.13804994]\n",
      " [-3.44362712  4.67837544  4.21955908]\n",
      " [ 8.38918     4.98168824 -3.27950025]]\n"
     ]
    }
   ],
   "source": [
    "num=np.zeros((3,3),dtype='float')     \n",
    "num=rng.random((3,3))*20-10\n",
    "print(num)"
   ]
  },
  {
   "cell_type": "code",
   "execution_count": 9,
   "id": "22ad8c44-3181-491a-ade2-92b58c5ac699",
   "metadata": {},
   "outputs": [
    {
     "name": "stdout",
     "output_type": "stream",
     "text": [
      "[[ -3.08986289  -0.12342119   5.13804994]\n",
      " [100.         100.         100.        ]\n",
      " [  8.38918      4.98168824  -3.27950025]]\n"
     ]
    }
   ],
   "source": [
    "num[1,:]=100\n",
    "print(num)"
   ]
  },
  {
   "cell_type": "code",
   "execution_count": 10,
   "id": "44683857-8f66-49b6-b8d5-058ecadf2386",
   "metadata": {},
   "outputs": [
    {
     "name": "stdout",
     "output_type": "stream",
     "text": [
      "[[ 4.02340703 -4.35307742 -2.84825812]] \n",
      " [[ 4.88579425 -3.09065226 -7.09168007]]\n",
      "[[ 8.90920128 -7.44372968 -9.93993819]]\n",
      "[[53.31032285]]\n",
      "[[53.31032285]]\n"
     ]
    }
   ],
   "source": [
    "num1=rng.random((1,3))*20-10\n",
    "num2=rng.random((1,3))*20-10\n",
    "print(num1,'\\n',num2)\n",
    "num3=num1+num2\n",
    "print(num3)\n",
    "dotprod=np.dot(num1, np.transpose(num2))\n",
    "print(dotprod)\n",
    "dotprod=num1@np.transpose(num2)\n",
    "print(dotprod)"
   ]
  },
  {
   "cell_type": "code",
   "execution_count": 11,
   "id": "51ec2e2d-5c5c-43f6-86ee-1d73acfa843f",
   "metadata": {},
   "outputs": [],
   "source": [
    "def stdv(m, a):\n",
    "    sumsq=0\n",
    "    for i in range (25):\n",
    "        sumsq+=(m-a[i])**2\n",
    "    return np.sqrt(sumsq/25)\n",
    "    \n",
    "    \n"
   ]
  },
  {
   "cell_type": "code",
   "execution_count": 12,
   "id": "01bf2477-805c-4244-a78f-e2c7d9dbd158",
   "metadata": {},
   "outputs": [
    {
     "name": "stdout",
     "output_type": "stream",
     "text": [
      "[[  3   4   2 -10   1]\n",
      " [  0  -3 -10   2  -8]\n",
      " [ -1   7   6  -1  -4]\n",
      " [ -5   3   3   9   1]\n",
      " [ -5   8  -4   9  -1]]\n",
      "the sum is= 6 \t the maximum is= 9 \t [3, 3] \t the minimum is = -10 \t [0, 3]\n",
      "[  3   4   2 -10   1   0  -3 -10   2  -8  -1   7   6  -1  -4  -5   3   3\n",
      "   9   1  -5   8  -4   9  -1]\n",
      "[-10 -10  -8  -5  -5  -4  -4  -3  -1  -1  -1   0   1   1   2   2   3   3\n",
      "   3   4   6   7   8   9   9]\n",
      "the mean is= 0.24 \t the median is= 1\n",
      "5.368649737131302\n",
      "0.24\n",
      "5.368649737131302\n"
     ]
    }
   ],
   "source": [
    "num=rng.integers(low=-10, high=10, size=(5,5))\n",
    "print(num)\n",
    "linnum=[]\n",
    "sum=0\n",
    "mean=0\n",
    "median=0\n",
    "sigma=0\n",
    "max=-11\n",
    "maxposition=[]\n",
    "minposition=[]\n",
    "min=11\n",
    "linnum=np.array(num).flatten()\n",
    "for i in range(5):\n",
    "    for j in range(5):\n",
    "        sum+=num[i,j]\n",
    "        if (max<num[i,j]): \n",
    "            max=num[i,j] \n",
    "            maxposition=([i,j])\n",
    "        if (min>num[i,j]): \n",
    "            min=num[i,j] \n",
    "            minposition=([i,j])\n",
    "print('the sum is=',sum, '\\t', 'the maximum is=',max, '\\t', maxposition, '\\t', 'the minimum is =',min, '\\t', minposition)\n",
    "print(linnum)\n",
    "linnum1=np.sort(linnum)\n",
    "print(linnum1)\n",
    "mean=sum/25\n",
    "print('the mean is=',mean, '\\t', 'the median is=',linnum1[13]) #long way to do this \n",
    "sigma=stdv(mean, linnum)\n",
    "print(sigma)\n",
    "\n",
    "mean1=np.mean(linnum)  #Fast way to do this \n",
    "print(mean1)\n",
    "sigma1=np.std(linnum)\n",
    "print(sigma1)\n"
   ]
  },
  {
   "cell_type": "code",
   "execution_count": 13,
   "id": "213ca592-0315-44bd-a8c8-839e72f95acb",
   "metadata": {},
   "outputs": [
    {
     "name": "stdout",
     "output_type": "stream",
     "text": [
      "[-9.37446154 -1.56978548 -8.27316496 -6.47366517  3.68525319  8.25295003\n",
      "  5.07242259 -5.55143476  1.41641861 -3.74356102 -4.12608206  6.32840435]\n",
      "[[-9.37446154 -1.56978548 -8.27316496 -6.47366517]\n",
      " [ 3.68525319  8.25295003  5.07242259 -5.55143476]\n",
      " [ 1.41641861 -3.74356102 -4.12608206  6.32840435]]\n",
      "[[-9.37446154  3.68525319  1.41641861]\n",
      " [-1.56978548  8.25295003 -3.74356102]\n",
      " [-8.27316496  5.07242259 -4.12608206]\n",
      " [-6.47366517 -5.55143476  6.32840435]]\n",
      "[[-9.37446154  3.68525319  1.41641861]\n",
      " [-1.56978548  8.25295003 -3.74356102]\n",
      " [-8.27316496  5.07242259 -4.12608206]\n",
      " [-6.47366517 -5.55143476  6.32840435]]\n"
     ]
    }
   ],
   "source": [
    "num=rng.random(size=12)*20-10\n",
    "print(num)\n",
    "num1=np.zeros((3,4))\n",
    "for i in range(3):\n",
    "    for j in range (4):\n",
    "        num1[i,j]=num[i*4+j]\n",
    "print(num1)\n",
    "num2=np.zeros((4,3))    #hard way to transpose\n",
    "for i in range (4):\n",
    "    for j in range (3):\n",
    "        num2[i,j]=num1[j,i]\n",
    "print(num2)\n",
    "num2=np.transpose(num1)  #easy way to transpose\n",
    "print(num2)"
   ]
  },
  {
   "cell_type": "code",
   "execution_count": 14,
   "id": "5e2316ad-4d46-441b-b954-ffb751294299",
   "metadata": {},
   "outputs": [
    {
     "name": "stdout",
     "output_type": "stream",
     "text": [
      "[10 -1 -1 -1 -1]\n",
      "[20, 25, 30]\n"
     ]
    }
   ],
   "source": [
    "A = np.array([10, 15, 20, 25, 30])\n",
    "B=[]\n",
    "for i in range(A.size):\n",
    "    if (A[i]>15): B.append(int(A[i]))\n",
    "    if (A[i]>10): A[i]=-1\n",
    "print(A)\n",
    "print(B)\n",
    "                 "
   ]
  },
  {
   "cell_type": "code",
   "execution_count": 15,
   "id": "00692733-f8f4-4252-aab0-eb1f331c400a",
   "metadata": {},
   "outputs": [
    {
     "name": "stdout",
     "output_type": "stream",
     "text": [
      "[[ 1.10412832  8.94726689  9.92268888]\n",
      " [ 5.25015055  7.80416084 -8.57754342]\n",
      " [ 0.45970136 -3.43682557  8.15882766]]\n",
      "-595.4251054488491\n",
      "[[ 1.10412832  8.94726689  9.92268888]\n",
      " [ 5.25015055  7.80416084 -8.57754342]\n",
      " [ 0.45970136 -3.43682557  8.15882766]]\n",
      "[-5.16840756  8.21950666 14.01601772]\n",
      "[[ 0.87920371 -0.85047822 -0.21866513]\n",
      " [-0.45314237 -0.10465656 -0.84900781]\n",
      " [-0.147183   -0.51549375  0.4810107 ]]\n"
     ]
    }
   ],
   "source": [
    "C=rng.random((3,3))*20-10\n",
    "print(C)\n",
    "det=np.linalg.det(C)\n",
    "print(det)\n",
    "inv=np.linalg.inv(C)\n",
    "print(C)\n",
    "eig=np.linalg.eig(C)\n",
    "#print(eig)\n",
    "print(eig.eigenvalues)  #access to eigenvalues\n",
    "print(eig.eigenvectors) #access to eigenvectors"
   ]
  },
  {
   "cell_type": "code",
   "execution_count": 16,
   "id": "0ca38e8b-16bc-4af5-91d7-7a78f7033a48",
   "metadata": {},
   "outputs": [],
   "source": [
    "D=np.diag([1,1,1,1,1]) #defining diagonal matrices (note: we can also extract just the diagonal of a 2D  array)"
   ]
  },
  {
   "cell_type": "code",
   "execution_count": 23,
   "id": "a9d82243-f996-4bf1-9410-0c89a22eb721",
   "metadata": {},
   "outputs": [
    {
     "data": {
      "image/png": "[encoded data removed]",
      "text/plain": [
       "<Figure size 640x480 with 1 Axes>"
      ]
     },
     "metadata": {},
     "output_type": "display_data"
    }
   ],
   "source": [
    "import matplotlib.pyplot as plt\n",
    "from scipy.stats import norm\n",
    "\n",
    "# Step 1: Generate data from a normal distribution\n",
    "data = np.random.normal(loc=40, scale=10, size=1000)  # mean=40, std=10, 1000 data points\n",
    "\n",
    "# Step 2: Plot the histogram of the data\n",
    "plt.hist(data, bins=30, density=True, alpha=0.6, color='b', label='Histogram')  #alpha is the opacity\n",
    "\n",
    "# Step 3: Plot the Gaussian (normal) distribution curve\n",
    "xmin, xmax = plt.xlim()  # get the limits of the x-axis\n",
    "x = np.linspace(xmin, xmax, 100)\n",
    "p = norm.pdf(x, np.mean(data), np.std(data))  # probability density function for normal dist\n",
    "\n",
    "plt.plot(x, p, 'r', linewidth=1, label='Gaussian Curve') #plotting the red bell\n",
    "plt.title('Histogram and Gaussian Curve')\n",
    "plt.xlabel('Value')\n",
    "plt.ylabel('Density')\n",
    "plt.legend()\n",
    "\n",
    "# Step 4: Show the plot\n",
    "plt.show()"
   ]
  },
  {
   "cell_type": "code",
   "execution_count": 27,
   "id": "fd46bc20-b9cb-45a5-a980-9226cbc0d2c3",
   "metadata": {},
   "outputs": [
    {
     "name": "stdout",
     "output_type": "stream",
     "text": [
      "[1.3 0.8]\n"
     ]
    }
   ],
   "source": [
    "A=[[2,3],[4,1]]\n",
    "B=[5,6]\n",
    "C=np.linalg.solve(A,B)\n",
    "print(C)"
   ]
  },
  {
   "cell_type": "code",
   "execution_count": null,
   "id": "2e2e30b4-fca2-4f1a-ac92-d24f2a57e4bc",
   "metadata": {},
   "outputs": [],
   "source": []
  }
 ],
 "metadata": {
  "kernelspec": {
   "display_name": "Python 3 (ipykernel)",
   "language": "python",
   "name": "python3"
  },
  "language_info": {
   "codemirror_mode": {
    "name": "ipython",
    "version": 3
   },
   "file_extension": ".py",
   "mimetype": "text/x-python",
   "name": "python",
   "nbconvert_exporter": "python",
   "pygments_lexer": "ipython3",
   "version": "3.12.5"
  }
 },
 "nbformat": 4,
 "nbformat_minor": 5
}
