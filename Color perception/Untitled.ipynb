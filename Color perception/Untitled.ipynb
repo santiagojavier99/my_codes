{
 "cells": [
  {
   "cell_type": "code",
   "execution_count": null,
   "id": "f83d104e-94f2-4b09-9d74-8ee64224a8a0",
   "metadata": {},
   "outputs": [],
   "source": [
    "#computation of the relative quantum entropy in the case of two qubits \n",
    "\n"
   ]
  }
 ],
 "metadata": {
  "kernelspec": {
   "display_name": "Python 3 (ipykernel)",
   "language": "python",
   "name": "python3"
  },
  "language_info": {
   "codemirror_mode": {
    "name": "ipython",
    "version": 3
   },
   "file_extension": ".py",
   "mimetype": "text/x-python",
   "name": "python",
   "nbconvert_exporter": "python",
   "pygments_lexer": "ipython3",
   "version": "3.12.5"
  }
 },
 "nbformat": 4,
 "nbformat_minor": 5
}
